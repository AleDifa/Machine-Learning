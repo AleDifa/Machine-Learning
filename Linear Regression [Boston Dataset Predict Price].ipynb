{
 "cells": [
  {
   "cell_type": "code",
   "execution_count": 1,
   "metadata": {},
   "outputs": [],
   "source": [
    "import pandas as pd\n",
    "import numpy as np"
   ]
  },
  {
   "cell_type": "code",
   "execution_count": 12,
   "metadata": {},
   "outputs": [],
   "source": [
    "df=pd.read_csv(\"https://archive.ics.uci.edu/ml/machine-learning-databases/housing/housing.data\", sep='\\s+',  usecols=[5,13],names=[\"RM\", \"MEDV\"])\n",
    "\n",
    "# usecols= use only this columns\n",
    "# names= rename the column 5 , 13"
   ]
  },
  {
   "cell_type": "code",
   "execution_count": 13,
   "metadata": {},
   "outputs": [
    {
     "data": {
      "text/html": [
       "<div>\n",
       "<style scoped>\n",
       "    .dataframe tbody tr th:only-of-type {\n",
       "        vertical-align: middle;\n",
       "    }\n",
       "\n",
       "    .dataframe tbody tr th {\n",
       "        vertical-align: top;\n",
       "    }\n",
       "\n",
       "    .dataframe thead th {\n",
       "        text-align: right;\n",
       "    }\n",
       "</style>\n",
       "<table border=\"1\" class=\"dataframe\">\n",
       "  <thead>\n",
       "    <tr style=\"text-align: right;\">\n",
       "      <th></th>\n",
       "      <th>RM</th>\n",
       "      <th>MEDV</th>\n",
       "    </tr>\n",
       "  </thead>\n",
       "  <tbody>\n",
       "    <tr>\n",
       "      <th>0</th>\n",
       "      <td>6.575</td>\n",
       "      <td>24.0</td>\n",
       "    </tr>\n",
       "    <tr>\n",
       "      <th>1</th>\n",
       "      <td>6.421</td>\n",
       "      <td>21.6</td>\n",
       "    </tr>\n",
       "  </tbody>\n",
       "</table>\n",
       "</div>"
      ],
      "text/plain": [
       "      RM  MEDV\n",
       "0  6.575  24.0\n",
       "1  6.421  21.6"
      ]
     },
     "execution_count": 13,
     "metadata": {},
     "output_type": "execute_result"
    }
   ],
   "source": [
    "df.head(2)"
   ]
  },
  {
   "cell_type": "code",
   "execution_count": 17,
   "metadata": {},
   "outputs": [
    {
     "data": {
      "text/plain": [
       "RM      0\n",
       "MEDV    0\n",
       "dtype: int64"
      ]
     },
     "execution_count": 17,
     "metadata": {},
     "output_type": "execute_result"
    }
   ],
   "source": [
    "df.isnull().sum()"
   ]
  },
  {
   "cell_type": "code",
   "execution_count": 38,
   "metadata": {},
   "outputs": [],
   "source": [
    "X = df[\"RM\"].values   #proprietà\n",
    "y = df[\"MEDV\"].values #taget\n",
    "# create array for column \"MEDV\" , \"RM\"\n",
    "\n",
    "# X = df.drop(\"MEDV\", axis=1).values\n",
    "    # This is the better way, but in this case \n",
    "    # we use another solution \n"
   ]
  },
  {
   "cell_type": "code",
   "execution_count": 109,
   "metadata": {
    "scrolled": true
   },
   "outputs": [
    {
     "data": {
      "text/plain": [
       "numpy.ndarray"
      ]
     },
     "execution_count": 109,
     "metadata": {},
     "output_type": "execute_result"
    }
   ],
   "source": [
    "type(X)"
   ]
  },
  {
   "cell_type": "code",
   "execution_count": 45,
   "metadata": {},
   "outputs": [],
   "source": [
    "import matplotlib.pyplot as plt\n",
    "from matplotlib import style"
   ]
  },
  {
   "cell_type": "code",
   "execution_count": 46,
   "metadata": {},
   "outputs": [
    {
     "data": {
      "image/png": "[encoded data removed]",
      "text/plain": [
       "<Figure size 432x288 with 1 Axes>"
      ]
     },
     "metadata": {
      "needs_background": "light"
     },
     "output_type": "display_data"
    }
   ],
   "source": [
    "plt.scatter(X,y)\n",
    "# gia vediamo degli outlayer ma non ci interessa per ora\n",
    "plt.show()"
   ]
  },
  {
   "cell_type": "markdown",
   "metadata": {},
   "source": [
    "-----------"
   ]
  },
  {
   "cell_type": "markdown",
   "metadata": {},
   "source": [
    "Dividiamo il dataset in Train and Test"
   ]
  },
  {
   "cell_type": "code",
   "execution_count": 39,
   "metadata": {},
   "outputs": [],
   "source": [
    "from sklearn.model_selection import train_test_split"
   ]
  },
  {
   "cell_type": "code",
   "execution_count": 40,
   "metadata": {},
   "outputs": [],
   "source": [
    "X_train, X_test, y_train, y_test = train_test_split(\n",
    "X, y, test_size=0.3, random_state=42)"
   ]
  },
  {
   "cell_type": "markdown",
   "metadata": {},
   "source": [
    "Usiamo la Regressione Lineare per costruire il modello"
   ]
  },
  {
   "cell_type": "code",
   "execution_count": 41,
   "metadata": {},
   "outputs": [],
   "source": [
    "from sklearn.linear_model import LinearRegression"
   ]
  },
  {
   "cell_type": "markdown",
   "metadata": {},
   "source": [
    "Tutti i modelli/classi di sklearn si svolgono:\n",
    "    1) istanziare un modello\n",
    "    2) utilizza fit per costruire il modello\n",
    "    3) metodo predict per effettuare predizione"
   ]
  },
  {
   "cell_type": "code",
   "execution_count": 42,
   "metadata": {},
   "outputs": [],
   "source": [
    "ll=LinearRegression()"
   ]
  },
  {
   "cell_type": "code",
   "execution_count": 43,
   "metadata": {},
   "outputs": [
    {
     "ename": "ValueError",
     "evalue": "Expected 2D array, got 1D array instead:\narray=[6.43  6.176 5.682 5.935 5.926 6.398 6.998 5.683 6.153 5.741 6.195 6.376\n 5.56  6.674 8.398 6.185 5.813 6.172 5.983 6.474 5.85  6.943 6.437 5.872\n 6.254 6.546 7.178 6.538 4.903 4.906 5.52  6.212 6.826 6.951 6.749 5.019\n 6.683 5.878 6.251 6.319 5.569 5.887 5.987 6.8   6.718 6.229 6.411 6.13\n 6.442 5.012 6.879 7.236 6.167 6.433 6.101 8.375 6.975 7.412 6.273 6.122\n 6.525 8.259 5.731 7.088 6.495 5.762 6.395 5.349 7.686 7.52  7.358 4.652\n 6.484 5.841 7.287 6.151 4.97  6.226 6.209 6.38  5.927 6.715 7.079 7.014\n 6.012 8.78  6.976 7.241 6.066 6.122 6.315 5.747 5.604 6.382 6.377 4.368\n 6.137 6.619 5.966 5.782 5.877 6.162 7.041 6.549 7.274 6.794 5.628 6.405\n 4.926 6.193 6.565 5.856 5.093 6.163 5.468 6.606 6.854 8.069 6.728 5.961\n 6.563 7.61  6.108 5.871 6.59  5.663 5.757 5.852 6.23  5.986 6.616 6.618\n 5.648 6.373 5.637 5.565 7.148 5.706 6.968 6.242 6.127 5.79  6.009 7.016\n 5.935 5.913 6.98  4.973 6.54  6.316 5.905 5.936 8.247 6.567 5.854 5.942\n 7.107 7.333 8.337 5.928 5.87  5.884 8.266 4.138 5.968 5.693 6.453 6.434\n 6.127 4.138 6.417 5.822 3.863 6.069 5.67  6.29  7.923 6.63  6.358 7.831\n 5.896 6.51  5.889 5.933 6.495 5.875 5.403 6.404 6.939 6.164 6.625 6.115\n 6.897 6.649 5.536 6.86  6.77  5.818 6.051 6.326 7.645 6.108 6.782 7.147\n 7.454 7.393 6.727 8.04  6.833 6.375 5.837 5.88  7.82  6.63  6.182 5.966\n 6.03  5.95  8.297 6.083 7.135 6.655 6.047 6.193 5.981 7.203 6.315 7.802\n 6.38  5.857 6.456 6.335 6.431 7.061 5.631 6.312 5.713 7.104 6.871 6.096\n 5.272 7.024 6.223 5.759 5.608 5.888 6.812 5.627 6.794 5.895 6.631 5.783\n 5.807 6.678 6.317 6.438 5.926 6.209 6.982 6.49  5.92  6.162 7.489 6.211\n 6.642 6.343 6.951 5.972 6.842 5.851 5.998 5.39  6.421 6.341 5.454 5.602\n 6.824 6.727 5.891 6.096 6.348 7.327 6.202 4.963 6.405 5.985 6.229 6.511\n 6.014 7.206 6.095 5.949 5.705 7.007 5.    7.691 7.929 5.868 6.019 5.757\n 7.42  6.114 6.113 6.393 5.888 5.803 5.963 6.376 5.859 6.459 7.185 6.12\n 6.513 6.782 6.402 6.145 5.399 6.874 6.086 6.957 5.965 6.266 6.081 6.25\n 7.267 6.485 6.739 5.277 6.127 5.155 6.696 8.704 6.635 5.597 6.458 5.404\n 6.112 7.416 5.875 6.121 6.301 6.144 5.412 5.952 6.004 6.03  5.57  6.556\n 5.961 5.836 5.856 6.635 6.629 6.405].\nReshape your data either using array.reshape(-1, 1) if your data has a single feature or array.reshape(1, -1) if it contains a single sample.",
     "output_type": "error",
     "traceback": [
      "\u001b[1;31m---------------------------------------------------------------------------\u001b[0m",
      "\u001b[1;31mValueError\u001b[0m                                Traceback (most recent call last)",
      "\u001b[1;32m<ipython-input-43-8e255dc2ddef>\u001b[0m in \u001b[0;36m<module>\u001b[1;34m\u001b[0m\n\u001b[1;32m----> 1\u001b[1;33m \u001b[0mll\u001b[0m\u001b[1;33m.\u001b[0m\u001b[0mfit\u001b[0m\u001b[1;33m(\u001b[0m\u001b[0mX_train\u001b[0m\u001b[1;33m,\u001b[0m \u001b[0my_train\u001b[0m\u001b[1;33m)\u001b[0m\u001b[1;33m\u001b[0m\u001b[1;33m\u001b[0m\u001b[0m\n\u001b[0m",
      "\u001b[1;32m~\\Anaconda3\\lib\\site-packages\\sklearn\\linear_model\\base.py\u001b[0m in \u001b[0;36mfit\u001b[1;34m(self, X, y, sample_weight)\u001b[0m\n\u001b[0;32m    461\u001b[0m         \u001b[0mn_jobs_\u001b[0m \u001b[1;33m=\u001b[0m \u001b[0mself\u001b[0m\u001b[1;33m.\u001b[0m\u001b[0mn_jobs\u001b[0m\u001b[1;33m\u001b[0m\u001b[1;33m\u001b[0m\u001b[0m\n\u001b[0;32m    462\u001b[0m         X, y = check_X_y(X, y, accept_sparse=['csr', 'csc', 'coo'],\n\u001b[1;32m--> 463\u001b[1;33m                          y_numeric=True, multi_output=True)\n\u001b[0m\u001b[0;32m    464\u001b[0m \u001b[1;33m\u001b[0m\u001b[0m\n\u001b[0;32m    465\u001b[0m         \u001b[1;32mif\u001b[0m \u001b[0msample_weight\u001b[0m \u001b[1;32mis\u001b[0m \u001b[1;32mnot\u001b[0m \u001b[1;32mNone\u001b[0m \u001b[1;32mand\u001b[0m \u001b[0mnp\u001b[0m\u001b[1;33m.\u001b[0m\u001b[0matleast_1d\u001b[0m\u001b[1;33m(\u001b[0m\u001b[0msample_weight\u001b[0m\u001b[1;33m)\u001b[0m\u001b[1;33m.\u001b[0m\u001b[0mndim\u001b[0m \u001b[1;33m>\u001b[0m \u001b[1;36m1\u001b[0m\u001b[1;33m:\u001b[0m\u001b[1;33m\u001b[0m\u001b[1;33m\u001b[0m\u001b[0m\n",
      "\u001b[1;32m~\\Anaconda3\\lib\\site-packages\\sklearn\\utils\\validation.py\u001b[0m in \u001b[0;36mcheck_X_y\u001b[1;34m(X, y, accept_sparse, accept_large_sparse, dtype, order, copy, force_all_finite, ensure_2d, allow_nd, multi_output, ensure_min_samples, ensure_min_features, y_numeric, warn_on_dtype, estimator)\u001b[0m\n\u001b[0;32m    717\u001b[0m                     \u001b[0mensure_min_features\u001b[0m\u001b[1;33m=\u001b[0m\u001b[0mensure_min_features\u001b[0m\u001b[1;33m,\u001b[0m\u001b[1;33m\u001b[0m\u001b[1;33m\u001b[0m\u001b[0m\n\u001b[0;32m    718\u001b[0m                     \u001b[0mwarn_on_dtype\u001b[0m\u001b[1;33m=\u001b[0m\u001b[0mwarn_on_dtype\u001b[0m\u001b[1;33m,\u001b[0m\u001b[1;33m\u001b[0m\u001b[1;33m\u001b[0m\u001b[0m\n\u001b[1;32m--> 719\u001b[1;33m                     estimator=estimator)\n\u001b[0m\u001b[0;32m    720\u001b[0m     \u001b[1;32mif\u001b[0m \u001b[0mmulti_output\u001b[0m\u001b[1;33m:\u001b[0m\u001b[1;33m\u001b[0m\u001b[1;33m\u001b[0m\u001b[0m\n\u001b[0;32m    721\u001b[0m         y = check_array(y, 'csr', force_all_finite=True, ensure_2d=False,\n",
      "\u001b[1;32m~\\Anaconda3\\lib\\site-packages\\sklearn\\utils\\validation.py\u001b[0m in \u001b[0;36mcheck_array\u001b[1;34m(array, accept_sparse, accept_large_sparse, dtype, order, copy, force_all_finite, ensure_2d, allow_nd, ensure_min_samples, ensure_min_features, warn_on_dtype, estimator)\u001b[0m\n\u001b[0;32m    519\u001b[0m                     \u001b[1;34m\"Reshape your data either using array.reshape(-1, 1) if \"\u001b[0m\u001b[1;33m\u001b[0m\u001b[1;33m\u001b[0m\u001b[0m\n\u001b[0;32m    520\u001b[0m                     \u001b[1;34m\"your data has a single feature or array.reshape(1, -1) \"\u001b[0m\u001b[1;33m\u001b[0m\u001b[1;33m\u001b[0m\u001b[0m\n\u001b[1;32m--> 521\u001b[1;33m                     \"if it contains a single sample.\".format(array))\n\u001b[0m\u001b[0;32m    522\u001b[0m \u001b[1;33m\u001b[0m\u001b[0m\n\u001b[0;32m    523\u001b[0m         \u001b[1;31m# in the future np.flexible dtypes will be handled like object dtypes\u001b[0m\u001b[1;33m\u001b[0m\u001b[1;33m\u001b[0m\u001b[1;33m\u001b[0m\u001b[0m\n",
      "\u001b[1;31mValueError\u001b[0m: Expected 2D array, got 1D array instead:\narray=[6.43  6.176 5.682 5.935 5.926 6.398 6.998 5.683 6.153 5.741 6.195 6.376\n 5.56  6.674 8.398 6.185 5.813 6.172 5.983 6.474 5.85  6.943 6.437 5.872\n 6.254 6.546 7.178 6.538 4.903 4.906 5.52  6.212 6.826 6.951 6.749 5.019\n 6.683 5.878 6.251 6.319 5.569 5.887 5.987 6.8   6.718 6.229 6.411 6.13\n 6.442 5.012 6.879 7.236 6.167 6.433 6.101 8.375 6.975 7.412 6.273 6.122\n 6.525 8.259 5.731 7.088 6.495 5.762 6.395 5.349 7.686 7.52  7.358 4.652\n 6.484 5.841 7.287 6.151 4.97  6.226 6.209 6.38  5.927 6.715 7.079 7.014\n 6.012 8.78  6.976 7.241 6.066 6.122 6.315 5.747 5.604 6.382 6.377 4.368\n 6.137 6.619 5.966 5.782 5.877 6.162 7.041 6.549 7.274 6.794 5.628 6.405\n 4.926 6.193 6.565 5.856 5.093 6.163 5.468 6.606 6.854 8.069 6.728 5.961\n 6.563 7.61  6.108 5.871 6.59  5.663 5.757 5.852 6.23  5.986 6.616 6.618\n 5.648 6.373 5.637 5.565 7.148 5.706 6.968 6.242 6.127 5.79  6.009 7.016\n 5.935 5.913 6.98  4.973 6.54  6.316 5.905 5.936 8.247 6.567 5.854 5.942\n 7.107 7.333 8.337 5.928 5.87  5.884 8.266 4.138 5.968 5.693 6.453 6.434\n 6.127 4.138 6.417 5.822 3.863 6.069 5.67  6.29  7.923 6.63  6.358 7.831\n 5.896 6.51  5.889 5.933 6.495 5.875 5.403 6.404 6.939 6.164 6.625 6.115\n 6.897 6.649 5.536 6.86  6.77  5.818 6.051 6.326 7.645 6.108 6.782 7.147\n 7.454 7.393 6.727 8.04  6.833 6.375 5.837 5.88  7.82  6.63  6.182 5.966\n 6.03  5.95  8.297 6.083 7.135 6.655 6.047 6.193 5.981 7.203 6.315 7.802\n 6.38  5.857 6.456 6.335 6.431 7.061 5.631 6.312 5.713 7.104 6.871 6.096\n 5.272 7.024 6.223 5.759 5.608 5.888 6.812 5.627 6.794 5.895 6.631 5.783\n 5.807 6.678 6.317 6.438 5.926 6.209 6.982 6.49  5.92  6.162 7.489 6.211\n 6.642 6.343 6.951 5.972 6.842 5.851 5.998 5.39  6.421 6.341 5.454 5.602\n 6.824 6.727 5.891 6.096 6.348 7.327 6.202 4.963 6.405 5.985 6.229 6.511\n 6.014 7.206 6.095 5.949 5.705 7.007 5.    7.691 7.929 5.868 6.019 5.757\n 7.42  6.114 6.113 6.393 5.888 5.803 5.963 6.376 5.859 6.459 7.185 6.12\n 6.513 6.782 6.402 6.145 5.399 6.874 6.086 6.957 5.965 6.266 6.081 6.25\n 7.267 6.485 6.739 5.277 6.127 5.155 6.696 8.704 6.635 5.597 6.458 5.404\n 6.112 7.416 5.875 6.121 6.301 6.144 5.412 5.952 6.004 6.03  5.57  6.556\n 5.961 5.836 5.856 6.635 6.629 6.405].\nReshape your data either using array.reshape(-1, 1) if your data has a single feature or array.reshape(1, -1) if it contains a single sample."
     ]
    }
   ],
   "source": [
    "ll.fit(X_train, y_train)\n",
    "# try this for undestrand the mistake"
   ]
  },
  {
   "cell_type": "code",
   "execution_count": null,
   "metadata": {},
   "outputs": [],
   "source": [
    "'''\n",
    "we have this error,\n",
    "try to solve with reshape!\n",
    "x_train, y_train and x_test are currently only 1D\n",
    "need to give both the fit and predict methods 2D arrays.\n",
    "numpy ci permette di dare uno dei nuovi parametri di forma come -1"
   ]
  },
  {
   "cell_type": "code",
   "execution_count": 87,
   "metadata": {
    "scrolled": true
   },
   "outputs": [],
   "source": [
    "x_train= X_train.reshape(-1, 1)\n",
    "# new object with w lowercase\n",
    "y_train= y_train.reshape(-1, 1)\n",
    "x_test = X_test.reshape(-1, 1)"
   ]
  },
  {
   "cell_type": "code",
   "execution_count": 88,
   "metadata": {},
   "outputs": [
    {
     "data": {
      "text/plain": [
       "LinearRegression(copy_X=True, fit_intercept=True, n_jobs=None, normalize=False)"
      ]
     },
     "execution_count": 88,
     "metadata": {},
     "output_type": "execute_result"
    }
   ],
   "source": [
    "ll.fit(x_train, y_train)\n",
    "# Fit è l'addestramento, l'allenamento, dopo che si \n",
    "# è addestrato il modello si puo utilizzare per\n",
    "# fare previsioni con predict()\n",
    "# Trova i coefficienti per l'equazione specificata tramite l'algoritmo importato"
   ]
  },
  {
   "cell_type": "code",
   "execution_count": 89,
   "metadata": {},
   "outputs": [],
   "source": [
    "Y_pred = ll.predict(x_test)"
   ]
  },
  {
   "cell_type": "markdown",
   "metadata": {},
   "source": [
    "--------"
   ]
  },
  {
   "cell_type": "markdown",
   "metadata": {},
   "source": [
    "vediamo quanto è valido questo modello"
   ]
  },
  {
   "cell_type": "code",
   "execution_count": 90,
   "metadata": {},
   "outputs": [],
   "source": [
    "from sklearn.metrics import mean_squared_error\n",
    "# per calcolare l'errore utiliziamo l'errore quadratico medio (MSE - Mean Squared Error).\n",
    "# Esso consiste nella media della somma degli errori al quadrato. \n",
    "\n",
    "# L'MSE corrisponde alla somma dei quadrati residui\n",
    "# (RSS - Residual Sum of Squares) di cui viene calcolato il valore medio."
   ]
  },
  {
   "cell_type": "code",
   "execution_count": 92,
   "metadata": {},
   "outputs": [
    {
     "data": {
      "text/plain": [
       "40.35144969787305"
      ]
     },
     "execution_count": 92,
     "metadata": {},
     "output_type": "execute_result"
    }
   ],
   "source": [
    "mean_squared_error(y_test, Y_pred)"
   ]
  },
  {
   "cell_type": "code",
   "execution_count": 93,
   "metadata": {},
   "outputs": [],
   "source": [
    "# Usiamo una nuova metrica adesso,\n",
    "# il coefficente di determinazione è una standardizzazione dell MSE \n",
    "# che torna un punteggio fra 0 e 1 sulle predizioni sul Trainset"
   ]
  },
  {
   "cell_type": "code",
   "execution_count": 96,
   "metadata": {},
   "outputs": [],
   "source": [
    "from sklearn.metrics import r2_score"
   ]
  },
  {
   "cell_type": "code",
   "execution_count": 98,
   "metadata": {},
   "outputs": [
    {
     "data": {
      "text/plain": [
       "0.4584649934303068"
      ]
     },
     "execution_count": 98,
     "metadata": {},
     "output_type": "execute_result"
    }
   ],
   "source": [
    "r2_score(y_test, Y_pred)"
   ]
  },
  {
   "cell_type": "code",
   "execution_count": 99,
   "metadata": {},
   "outputs": [],
   "source": [
    "# piu vicino il dato si avvicina ad 1 più il nostro modello performa meglio"
   ]
  },
  {
   "cell_type": "markdown",
   "metadata": {},
   "source": [
    "---------"
   ]
  },
  {
   "cell_type": "markdown",
   "metadata": {},
   "source": [
    "Costruiamo i coefficenti di bias e peso che il modello ha appreso"
   ]
  },
  {
   "cell_type": "code",
   "execution_count": 101,
   "metadata": {},
   "outputs": [
    {
     "name": "stdout",
     "output_type": "stream",
     "text": [
      "Peso di RM: [9.1181022]\n",
      "Bias: [-34.66230744]\n"
     ]
    }
   ],
   "source": [
    "#import matplotlib.pyplot as plt\n",
    "%matplotlib inline\n",
    "\n",
    "print(\"Peso di RM: \"+ str(ll.coef_[0]))\n",
    "print(\"Bias: \"+str(ll.intercept_))"
   ]
  },
  {
   "cell_type": "code",
   "execution_count": 108,
   "metadata": {},
   "outputs": [
    {
     "data": {
      "text/plain": [
       "[<matplotlib.lines.Line2D at 0x233605bbeb8>]"
      ]
     },
     "execution_count": 108,
     "metadata": {},
     "output_type": "execute_result"
    },
    {
     "data": {
      "image/png": "[encoded data removed]",
      "text/plain": [
       "<Figure size 432x288 with 1 Axes>"
      ]
     },
     "metadata": {
      "needs_background": "light"
     },
     "output_type": "display_data"
    }
   ],
   "source": [
    "plt.scatter(X_train, y_train, c=\"green\",  edgecolor='white', label=\"Train set\")\n",
    "# uno per i dati di addestramento\n",
    "plt.scatter(X_test, y_test, c=\"blue\",  edgecolor='white', label=\"Test set\")\n",
    "# ed uno di test \n",
    "\n",
    "plt.xlabel('Numero medio di stanze [RM]')\n",
    "plt.ylabel('Valore in $1000 [MEDV]')\n",
    "# nomi degli assi\n",
    "\n",
    "plt.plot(X_test, Y_pred, color='red', linewidth=3)\n",
    "# disegnamo la retta "
   ]
  },
  {
   "cell_type": "code",
   "execution_count": null,
   "metadata": {},
   "outputs": [],
   "source": [
    "# L'errore alto è dato in gran parte \n",
    "# dagli outliers, ovvero dai valori che \n",
    "# si distaccano di molto dagli altri."
   ]
  }
 ],
 "metadata": {
  "kernelspec": {
   "display_name": "Python 3",
   "language": "python",
   "name": "python3"
  },
  "language_info": {
   "codemirror_mode": {
    "name": "ipython",
    "version": 3
   },
   "file_extension": ".py",
   "mimetype": "text/x-python",
   "name": "python",
   "nbconvert_exporter": "python",
   "pygments_lexer": "ipython3",
   "version": "3.6.9"
  }
 },
 "nbformat": 4,
 "nbformat_minor": 2
}
